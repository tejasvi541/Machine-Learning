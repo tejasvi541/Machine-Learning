{
  "nbformat": 4,
  "nbformat_minor": 0,
  "metadata": {
    "colab": {
      "name": "DCGAN.ipynb",
      "provenance": [],
      "collapsed_sections": [],
      "authorship_tag": "ABX9TyPKa6FYUYXWMc3zLtYp+0W7",
      "include_colab_link": true
    },
    "kernelspec": {
      "name": "python3",
      "display_name": "Python 3"
    },
    "language_info": {
      "name": "python"
    },
    "accelerator": "GPU"
  },
  "cells": [
    {
      "cell_type": "markdown",
      "metadata": {
        "id": "view-in-github",
        "colab_type": "text"
      },
      "source": [
        "<a href=\"https://colab.research.google.com/github/tejasvi541/Machine-Learning/blob/main/DCGAN.ipynb\" target=\"_parent\"><img src=\"https://colab.research.google.com/assets/colab-badge.svg\" alt=\"Open In Colab\"/></a>"
      ]
    },
    {
      "cell_type": "code",
      "metadata": {
        "colab": {
          "base_uri": "https://localhost:8080/"
        },
        "id": "UVPOPqlza9Gr",
        "outputId": "e84ba19a-0a7b-438d-ef1c-5f146c9b462c"
      },
      "source": [
        "!pip install opendatasets"
      ],
      "execution_count": null,
      "outputs": [
        {
          "output_type": "stream",
          "text": [
            "Collecting opendatasets\n",
            "  Downloading https://files.pythonhosted.org/packages/18/99/aaa3ebec81dc347302e730e0daff61735ed2f3e736129553fb3f9bf67ed3/opendatasets-0.1.10-py3-none-any.whl\n",
            "Requirement already satisfied: tqdm in /usr/local/lib/python3.7/dist-packages (from opendatasets) (4.41.1)\n",
            "Requirement already satisfied: click in /usr/local/lib/python3.7/dist-packages (from opendatasets) (7.1.2)\n",
            "Requirement already satisfied: kaggle in /usr/local/lib/python3.7/dist-packages (from opendatasets) (1.5.12)\n",
            "Requirement already satisfied: requests in /usr/local/lib/python3.7/dist-packages (from kaggle->opendatasets) (2.23.0)\n",
            "Requirement already satisfied: python-dateutil in /usr/local/lib/python3.7/dist-packages (from kaggle->opendatasets) (2.8.1)\n",
            "Requirement already satisfied: six>=1.10 in /usr/local/lib/python3.7/dist-packages (from kaggle->opendatasets) (1.15.0)\n",
            "Requirement already satisfied: urllib3 in /usr/local/lib/python3.7/dist-packages (from kaggle->opendatasets) (1.24.3)\n",
            "Requirement already satisfied: certifi in /usr/local/lib/python3.7/dist-packages (from kaggle->opendatasets) (2020.12.5)\n",
            "Requirement already satisfied: python-slugify in /usr/local/lib/python3.7/dist-packages (from kaggle->opendatasets) (4.0.1)\n",
            "Requirement already satisfied: chardet<4,>=3.0.2 in /usr/local/lib/python3.7/dist-packages (from requests->kaggle->opendatasets) (3.0.4)\n",
            "Requirement already satisfied: idna<3,>=2.5 in /usr/local/lib/python3.7/dist-packages (from requests->kaggle->opendatasets) (2.10)\n",
            "Requirement already satisfied: text-unidecode>=1.3 in /usr/local/lib/python3.7/dist-packages (from python-slugify->kaggle->opendatasets) (1.3)\n",
            "Installing collected packages: opendatasets\n",
            "Successfully installed opendatasets-0.1.10\n"
          ],
          "name": "stdout"
        }
      ]
    },
    {
      "cell_type": "code",
      "metadata": {
        "id": "5VzmN3irfo7J"
      },
      "source": [
        "import torch\n",
        "import torch.nn as nn"
      ],
      "execution_count": null,
      "outputs": []
    },
    {
      "cell_type": "markdown",
      "metadata": {
        "id": "ChIy8T-4iub0"
      },
      "source": [
        "### Discriminator Class"
      ]
    },
    {
      "cell_type": "code",
      "metadata": {
        "id": "SsH9MXYUgJ1z"
      },
      "source": [
        "class Discriminator(nn.Module):\n",
        "  def __init__(self, channels_img, features_d):\n",
        "    super(Discriminator, self).__init__()\n",
        "    self.disc = nn.Sequential(\n",
        "        # Input: N * channels_img * 64 * 64 \n",
        "        nn.Conv2d(\n",
        "            channels_img, features_d, kernel_size=4, stride=2, padding=1 \n",
        "        ), # 32 * 32\n",
        "        nn.LeakyReLU(0.2),\n",
        "        self._block(features_d, features_d*2, 4, 2, 1), # 16 * 16\n",
        "        self._block(features_d*2, features_d*4, 4, 2, 1), # 8 * 8\n",
        "        self._block(features_d*4, features_d*8, 4, 2, 1), # 4 * 4\n",
        "        nn.Conv2d(\n",
        "            features_d*8, 1, kernel_size=4, stride=2, padding=1 \n",
        "        ), # 1 * 1\n",
        "        nn.Sigmoid()\n",
        "    )\n",
        "\n",
        "  def _block(self, in_channels, out_channels, kernel_size, stride, padding):\n",
        "    return nn.Sequential(\n",
        "        nn.Conv2d(\n",
        "            in_channels,\n",
        "            out_channels,\n",
        "            kernel_size,\n",
        "            stride,\n",
        "            padding,\n",
        "            bias=False\n",
        "        ),\n",
        "        nn.BatchNorm2d(out_channels),\n",
        "        nn.LeakyReLU(0.2)\n",
        "    )\n",
        "  \n",
        "  def forward(self, x):\n",
        "    return self.disc(x)\n"
      ],
      "execution_count": null,
      "outputs": []
    },
    {
      "cell_type": "markdown",
      "metadata": {
        "id": "B_0hAO8ri0KL"
      },
      "source": [
        "### Generator Class"
      ]
    },
    {
      "cell_type": "code",
      "metadata": {
        "id": "9mBAlqe7izqx"
      },
      "source": [
        "class Generator(nn.Module):\n",
        "    def __init__(self, channels_noise, channels_img, features_g):\n",
        "        super(Generator, self).__init__()\n",
        "        self.net = nn.Sequential(\n",
        "            # Input: N x channels_noise x 1 x 1\n",
        "            self._block(channels_noise, features_g * 16, 4, 1, 0),  # img: 4x4\n",
        "            self._block(features_g * 16, features_g * 8, 4, 2, 1),  # img: 8x8\n",
        "            self._block(features_g * 8, features_g * 4, 4, 2, 1),  # img: 16x16\n",
        "            self._block(features_g * 4, features_g * 2, 4, 2, 1),  # img: 32x32\n",
        "            nn.ConvTranspose2d(\n",
        "                features_g * 2, channels_img, kernel_size=4, stride=2, padding=1\n",
        "            ),\n",
        "            # Output: N x channels_img x 64 x 64\n",
        "            nn.Tanh(),\n",
        "        )\n",
        "\n",
        "    def _block(self, in_channels, out_channels, kernel_size, stride, padding):\n",
        "        return nn.Sequential(\n",
        "            nn.ConvTranspose2d(\n",
        "                in_channels,\n",
        "                out_channels,\n",
        "                kernel_size,\n",
        "                stride,\n",
        "                padding,\n",
        "                bias=False,\n",
        "            ),\n",
        "            #nn.BatchNorm2d(out_channels),\n",
        "            nn.ReLU(),\n",
        "        )\n",
        "\n",
        "    def forward(self, x):\n",
        "        return self.net(x)"
      ],
      "execution_count": null,
      "outputs": []
    },
    {
      "cell_type": "code",
      "metadata": {
        "id": "76NbboQ6tzUu"
      },
      "source": [
        "def initialize_weights(model):\n",
        "    # Initializes weights according to the DCGAN paper\n",
        "    for m in model.modules():\n",
        "        if isinstance(m, (nn.Conv2d, nn.ConvTranspose2d, nn.BatchNorm2d)):\n",
        "            nn.init.normal_(m.weight.data, 0.0, 0.02)"
      ],
      "execution_count": null,
      "outputs": []
    },
    {
      "cell_type": "code",
      "metadata": {
        "id": "Xljg2GguuHW5"
      },
      "source": [
        "def test():\n",
        "    N, in_channels, H, W = 8, 3, 64, 64\n",
        "    noise_dim = 100\n",
        "    x = torch.randn((N, in_channels, H, W))\n",
        "    disc = Discriminator(in_channels, 8)\n",
        "    assert disc(x).shape == (N, 1, 1, 1), \"Discriminator test failed\"\n",
        "    gen = Generator(noise_dim, in_channels, 8)\n",
        "    z = torch.randn((N, noise_dim, 1, 1))\n",
        "    assert gen(z).shape == (N, in_channels, H, W), \"Generator test failed\""
      ],
      "execution_count": null,
      "outputs": []
    },
    {
      "cell_type": "markdown",
      "metadata": {
        "id": "V6xXwbOHuSOp"
      },
      "source": [
        "# Training Phase"
      ]
    },
    {
      "cell_type": "code",
      "metadata": {
        "id": "alub4FQsuJhu"
      },
      "source": [
        "import torch\n",
        "import torch.nn as nn\n",
        "import torch.optim as optim\n",
        "import torchvision\n",
        "import torchvision.datasets as datasets\n",
        "import torchvision.transforms as transforms\n",
        "from torch.utils.data import DataLoader\n",
        "from torch.utils.tensorboard import SummaryWriter"
      ],
      "execution_count": null,
      "outputs": []
    },
    {
      "cell_type": "code",
      "metadata": {
        "id": "UM9G1fsnuUD4"
      },
      "source": [
        "# Hyperparameters etc.\n",
        "device = torch.device(\"cuda\" if torch.cuda.is_available() else \"cpu\")\n",
        "LEARNING_RATE = 2e-4  # could also use two lrs, one for gen and one for disc\n",
        "BATCH_SIZE = 128\n",
        "IMAGE_SIZE = 64\n",
        "CHANNELS_IMG = 1\n",
        "NOISE_DIM = 100\n",
        "NUM_EPOCHS = 15\n",
        "FEATURES_DISC = 64\n",
        "FEATURES_GEN = 64"
      ],
      "execution_count": null,
      "outputs": []
    },
    {
      "cell_type": "code",
      "metadata": {
        "id": "32ozalEOuWDW"
      },
      "source": [
        "transforms = transforms.Compose(\n",
        "    [\n",
        "        transforms.Resize(IMAGE_SIZE),\n",
        "        transforms.ToTensor(),\n",
        "        transforms.Normalize(\n",
        "            [0.5 for _ in range(CHANNELS_IMG)], [0.5 for _ in range(CHANNELS_IMG)]\n",
        "        ),\n",
        "    ]\n",
        ")"
      ],
      "execution_count": null,
      "outputs": []
    },
    {
      "cell_type": "code",
      "metadata": {
        "id": "7U6lawJUuXlW"
      },
      "source": [
        "# If you train on MNIST, remember to set channels_img to 1\n",
        "dataset = datasets.MNIST(root=\"dataset/\", train=True, transform=transforms,\n",
        "                       download=True)\n",
        "\n",
        "# comment mnist above and uncomment below if train on CelebA\n",
        "#dataset = datasets.ImageFolder(root=\"celeb_dataset\", transform=transforms)\n",
        "dataloader = DataLoader(dataset, batch_size=BATCH_SIZE, shuffle=True)\n",
        "gen = Generator(NOISE_DIM, CHANNELS_IMG, FEATURES_GEN).to(device)\n",
        "disc = Discriminator(CHANNELS_IMG, FEATURES_DISC).to(device)\n",
        "initialize_weights(gen)\n",
        "initialize_weights(disc)"
      ],
      "execution_count": null,
      "outputs": []
    },
    {
      "cell_type": "code",
      "metadata": {
        "id": "8tXkDmqouZ1b"
      },
      "source": [
        "opt_gen = optim.Adam(gen.parameters(), lr=LEARNING_RATE, betas=(0.5, 0.999))\n",
        "opt_disc = optim.Adam(disc.parameters(), lr=LEARNING_RATE, betas=(0.5, 0.999))\n",
        "criterion = nn.BCELoss()"
      ],
      "execution_count": null,
      "outputs": []
    },
    {
      "cell_type": "code",
      "metadata": {
        "id": "R7nQa9P0uqEa"
      },
      "source": [
        "fixed_noise = torch.randn(32, NOISE_DIM, 1, 1).to(device)\n",
        "writer_real = SummaryWriter(f\"logs/real\")\n",
        "writer_fake = SummaryWriter(f\"logs/fake\")\n",
        "step = 0"
      ],
      "execution_count": null,
      "outputs": []
    },
    {
      "cell_type": "code",
      "metadata": {
        "colab": {
          "base_uri": "https://localhost:8080/"
        },
        "id": "6ojl-aQRurQ2",
        "outputId": "12e831e5-ef6a-4056-8cc3-d8db219d7f5c"
      },
      "source": [
        "gen.train()\n",
        "disc.train()\n",
        "\n",
        "for epoch in range(NUM_EPOCHS):\n",
        "    # Target labels not needed! <3 unsupervised\n",
        "    for batch_idx, (real, _) in enumerate(dataloader):\n",
        "        real = real.to(device)\n",
        "        noise = torch.randn(BATCH_SIZE, NOISE_DIM, 1, 1).to(device)\n",
        "        fake = gen(noise)\n",
        "\n",
        "        ### Train Discriminator: max log(D(x)) + log(1 - D(G(z)))\n",
        "        disc_real = disc(real).reshape(-1)\n",
        "        loss_disc_real = criterion(disc_real, torch.ones_like(disc_real))\n",
        "        disc_fake = disc(fake.detach()).reshape(-1)\n",
        "        loss_disc_fake = criterion(disc_fake, torch.zeros_like(disc_fake))\n",
        "        loss_disc = (loss_disc_real + loss_disc_fake) / 2\n",
        "        disc.zero_grad()\n",
        "        loss_disc.backward()\n",
        "        opt_disc.step()\n",
        "\n",
        "        ### Train Generator: min log(1 - D(G(z))) <-> max log(D(G(z))\n",
        "        output = disc(fake).reshape(-1)\n",
        "        loss_gen = criterion(output, torch.ones_like(output))\n",
        "        gen.zero_grad()\n",
        "        loss_gen.backward()\n",
        "        opt_gen.step()\n",
        "\n",
        "        # Print losses occasionally and print to tensorboard\n",
        "        if batch_idx % 100 == 0:\n",
        "            print(\n",
        "                f\"Epoch [{epoch}/{NUM_EPOCHS}] Batch {batch_idx}/{len(dataloader)} \\\n",
        "                  Loss D: {loss_disc:.4f}, loss G: {loss_gen:.4f}\"\n",
        "            )\n",
        "\n",
        "            with torch.no_grad():\n",
        "                fake = gen(fixed_noise)\n",
        "                # take out (up to) 32 examples\n",
        "                img_grid_real = torchvision.utils.make_grid(\n",
        "                    real[:32], normalize=True\n",
        "                )\n",
        "                img_grid_fake = torchvision.utils.make_grid(\n",
        "                    fake[:32], normalize=True\n",
        "                )\n",
        "\n",
        "                writer_real.add_image(\"Real\", img_grid_real, global_step=step)\n",
        "                writer_fake.add_image(\"Fake\", img_grid_fake, global_step=step)\n",
        "\n",
        "            step += 1"
      ],
      "execution_count": null,
      "outputs": [
        {
          "output_type": "stream",
          "text": [
            "Epoch [0/15] Batch 0/469                   Loss D: 0.5842, loss G: 1.0591\n",
            "Epoch [0/15] Batch 100/469                   Loss D: 0.0671, loss G: 3.2594\n",
            "Epoch [0/15] Batch 200/469                   Loss D: 0.0471, loss G: 3.4919\n",
            "Epoch [0/15] Batch 300/469                   Loss D: 0.0994, loss G: 2.3071\n",
            "Epoch [0/15] Batch 400/469                   Loss D: 0.0569, loss G: 3.5228\n",
            "Epoch [1/15] Batch 0/469                   Loss D: 0.0222, loss G: 4.2383\n",
            "Epoch [1/15] Batch 100/469                   Loss D: 0.0302, loss G: 4.1986\n",
            "Epoch [1/15] Batch 200/469                   Loss D: 0.6239, loss G: 0.8734\n",
            "Epoch [1/15] Batch 300/469                   Loss D: 0.3861, loss G: 1.8281\n",
            "Epoch [1/15] Batch 400/469                   Loss D: 0.7579, loss G: 1.9384\n",
            "Epoch [2/15] Batch 0/469                   Loss D: 0.0374, loss G: 3.7780\n",
            "Epoch [2/15] Batch 100/469                   Loss D: 0.0559, loss G: 3.7514\n",
            "Epoch [2/15] Batch 200/469                   Loss D: 0.0061, loss G: 6.1870\n",
            "Epoch [2/15] Batch 300/469                   Loss D: 0.0015, loss G: 6.3966\n",
            "Epoch [2/15] Batch 400/469                   Loss D: 0.0010, loss G: 6.8887\n",
            "Epoch [3/15] Batch 0/469                   Loss D: 0.0013, loss G: 6.5389\n",
            "Epoch [3/15] Batch 100/469                   Loss D: 0.0007, loss G: 6.9656\n",
            "Epoch [3/15] Batch 200/469                   Loss D: 0.0004, loss G: 7.5331\n",
            "Epoch [3/15] Batch 300/469                   Loss D: 0.0004, loss G: 7.5234\n",
            "Epoch [3/15] Batch 400/469                   Loss D: 0.0003, loss G: 7.7174\n",
            "Epoch [4/15] Batch 0/469                   Loss D: 0.0003, loss G: 7.6597\n",
            "Epoch [4/15] Batch 100/469                   Loss D: 0.0003, loss G: 8.0813\n",
            "Epoch [4/15] Batch 200/469                   Loss D: 0.0002, loss G: 8.3104\n",
            "Epoch [4/15] Batch 300/469                   Loss D: 0.0002, loss G: 8.0905\n",
            "Epoch [4/15] Batch 400/469                   Loss D: 0.0001, loss G: 8.5857\n",
            "Epoch [5/15] Batch 0/469                   Loss D: 0.0002, loss G: 8.4163\n",
            "Epoch [5/15] Batch 100/469                   Loss D: 0.0001, loss G: 8.8868\n",
            "Epoch [5/15] Batch 200/469                   Loss D: 0.0003, loss G: 8.1869\n",
            "Epoch [5/15] Batch 300/469                   Loss D: 0.0005, loss G: 7.6700\n",
            "Epoch [5/15] Batch 400/469                   Loss D: 0.0334, loss G: 8.0879\n",
            "Epoch [6/15] Batch 0/469                   Loss D: 0.0048, loss G: 5.4211\n",
            "Epoch [6/15] Batch 100/469                   Loss D: 0.0017, loss G: 6.1326\n",
            "Epoch [6/15] Batch 200/469                   Loss D: 0.0008, loss G: 6.7495\n",
            "Epoch [6/15] Batch 300/469                   Loss D: 0.0005, loss G: 7.1390\n",
            "Epoch [6/15] Batch 400/469                   Loss D: 0.0004, loss G: 7.4370\n",
            "Epoch [7/15] Batch 0/469                   Loss D: 0.0006, loss G: 7.0457\n",
            "Epoch [7/15] Batch 100/469                   Loss D: 0.0004, loss G: 7.3113\n",
            "Epoch [7/15] Batch 200/469                   Loss D: 0.0004, loss G: 7.6573\n",
            "Epoch [7/15] Batch 300/469                   Loss D: 0.0004, loss G: 7.4503\n",
            "Epoch [7/15] Batch 400/469                   Loss D: 0.0003, loss G: 7.6592\n",
            "Epoch [8/15] Batch 0/469                   Loss D: 0.0004, loss G: 7.5173\n",
            "Epoch [8/15] Batch 100/469                   Loss D: 0.0004, loss G: 7.4355\n",
            "Epoch [8/15] Batch 200/469                   Loss D: 0.0028, loss G: 5.7221\n",
            "Epoch [8/15] Batch 300/469                   Loss D: 0.0011, loss G: 7.8851\n",
            "Epoch [8/15] Batch 400/469                   Loss D: 0.0617, loss G: 9.1331\n",
            "Epoch [9/15] Batch 0/469                   Loss D: 0.0091, loss G: 5.1752\n",
            "Epoch [9/15] Batch 100/469                   Loss D: 0.2446, loss G: 12.6063\n",
            "Epoch [9/15] Batch 200/469                   Loss D: 0.0205, loss G: 10.3306\n",
            "Epoch [9/15] Batch 300/469                   Loss D: 0.0216, loss G: 5.2011\n",
            "Epoch [9/15] Batch 400/469                   Loss D: 0.0134, loss G: 4.7089\n",
            "Epoch [10/15] Batch 0/469                   Loss D: 0.0227, loss G: 5.4943\n",
            "Epoch [10/15] Batch 100/469                   Loss D: 0.0090, loss G: 5.7503\n",
            "Epoch [10/15] Batch 200/469                   Loss D: 0.0359, loss G: 5.3591\n",
            "Epoch [10/15] Batch 300/469                   Loss D: 0.0136, loss G: 5.5302\n",
            "Epoch [10/15] Batch 400/469                   Loss D: 0.0161, loss G: 6.4481\n",
            "Epoch [11/15] Batch 0/469                   Loss D: 0.0800, loss G: 7.2878\n",
            "Epoch [11/15] Batch 100/469                   Loss D: 0.0114, loss G: 5.6137\n",
            "Epoch [11/15] Batch 200/469                   Loss D: 0.0106, loss G: 6.2219\n",
            "Epoch [11/15] Batch 300/469                   Loss D: 0.0029, loss G: 6.7010\n",
            "Epoch [11/15] Batch 400/469                   Loss D: 0.0048, loss G: 6.3225\n",
            "Epoch [12/15] Batch 0/469                   Loss D: 0.0020, loss G: 6.8417\n",
            "Epoch [12/15] Batch 100/469                   Loss D: 0.0060, loss G: 6.2170\n",
            "Epoch [12/15] Batch 200/469                   Loss D: 0.0046, loss G: 7.0977\n",
            "Epoch [12/15] Batch 300/469                   Loss D: 0.0017, loss G: 6.7772\n",
            "Epoch [12/15] Batch 400/469                   Loss D: 0.0012, loss G: 7.0704\n",
            "Epoch [13/15] Batch 0/469                   Loss D: 0.0027, loss G: 6.0622\n",
            "Epoch [13/15] Batch 100/469                   Loss D: 0.0018, loss G: 7.2180\n",
            "Epoch [13/15] Batch 200/469                   Loss D: 0.0063, loss G: 6.0467\n",
            "Epoch [13/15] Batch 300/469                   Loss D: 0.0006, loss G: 7.1986\n",
            "Epoch [13/15] Batch 400/469                   Loss D: 0.0018, loss G: 6.8228\n",
            "Epoch [14/15] Batch 0/469                   Loss D: 0.0108, loss G: 11.4286\n",
            "Epoch [14/15] Batch 100/469                   Loss D: 0.0353, loss G: 6.3326\n",
            "Epoch [14/15] Batch 200/469                   Loss D: 0.0125, loss G: 6.1245\n",
            "Epoch [14/15] Batch 300/469                   Loss D: 0.0281, loss G: 4.7955\n",
            "Epoch [14/15] Batch 400/469                   Loss D: 0.0254, loss G: 5.3252\n"
          ],
          "name": "stdout"
        }
      ]
    },
    {
      "cell_type": "code",
      "metadata": {
        "id": "5Tf7zT1wuvLX"
      },
      "source": [
        ""
      ],
      "execution_count": null,
      "outputs": []
    }
  ]
}